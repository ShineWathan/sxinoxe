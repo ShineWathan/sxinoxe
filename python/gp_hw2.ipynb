{
 "cells": [
  {
   "cell_type": "code",
   "execution_count": 2,
   "metadata": {},
   "outputs": [
    {
     "ename": "ValueError",
     "evalue": "invalid literal for int() with base 10: ''",
     "output_type": "error",
     "traceback": [
      "\u001b[1;31m---------------------------------------------------------------------------\u001b[0m",
      "\u001b[1;31mValueError\u001b[0m                                Traceback (most recent call last)",
      "Cell \u001b[1;32mIn [2], line 5\u001b[0m\n\u001b[0;32m      2\u001b[0m number \u001b[39m=\u001b[39m random\u001b[39m.\u001b[39mrandint(\u001b[39m1\u001b[39m, \u001b[39m99\u001b[39m)\n\u001b[0;32m      4\u001b[0m \u001b[39mwhile\u001b[39;00m \u001b[39mTrue\u001b[39;00m:\n\u001b[1;32m----> 5\u001b[0m     user_guess \u001b[39m=\u001b[39m \u001b[39mint\u001b[39;49m(\u001b[39minput\u001b[39;49m(\u001b[39m'\u001b[39;49m\u001b[39mGuess the number:\u001b[39;49m\u001b[39m'\u001b[39;49m))\n\u001b[0;32m      6\u001b[0m     \u001b[39mif\u001b[39;00m user_guess \u001b[39m>\u001b[39m number:\n\u001b[0;32m      7\u001b[0m         \u001b[39mprint\u001b[39m(\u001b[39m'\u001b[39m\u001b[39mToo high\u001b[39m\u001b[39m'\u001b[39m)\n",
      "\u001b[1;31mValueError\u001b[0m: invalid literal for int() with base 10: ''"
     ]
    }
   ],
   "source": [
    "import random\n",
    "r=random.randint(1,99)\n",
    "while 1:\n",
    "  guess=int(input('Guess a number between 0 and 100 : '))\n",
    "  if guess<r:\n",
    "    print('Too low')\n",
    "  elif guess>r:\n",
    "    print('Too high')\n",
    "  else:\n",
    "    print('Correct!')\n",
    "    break"
   ]
  },
  {
   "cell_type": "code",
   "execution_count": null,
   "metadata": {},
   "outputs": [],
   "source": [
    "result=0\n",
    "list=[1,2,3,4,5,6,7,8]\n",
    "for i in list:\n",
    "    result+=i\n",
    "print(result)"
   ]
  },
  {
   "cell_type": "code",
   "execution_count": null,
   "metadata": {},
   "outputs": [],
   "source": [
    "vocab=input('Write down something : ')\n",
    "vowel=['a','e','i','o','u']\n",
    "f=vocab[0]\n",
    "if f in vowel:\n",
    "  print(vocab+'way')\n",
    "else:\n",
    "  print(vocab[1:]+vocab[0]+'ay')"
   ]
  },
  {
   "cell_type": "code",
   "execution_count": null,
   "metadata": {},
   "outputs": [],
   "source": [
    "mylist = [1,2,3,4,5]\n",
    "mylist2 = ['a','b','c','d']\n",
    "print([mylist[0],mylist[-1]])\n",
    "print([mylist2[0],mylist2[-1]])"
   ]
  },
  {
   "cell_type": "code",
   "execution_count": null,
   "metadata": {},
   "outputs": [],
   "source": [
    "hobby=['Cooking','Travelling']\n",
    "user=input('What is your fav hobby?')\n",
    "hobby.append(user.title())\n",
    "hobby.sort()\n",
    "print(hobby)"
   ]
  },
  {
   "cell_type": "code",
   "execution_count": null,
   "metadata": {},
   "outputs": [],
   "source": [
    "sub=['Myanmar','English','Mathematics','Chemistry','Physics','Biology']\n",
    "print(sub)\n",
    "dislike=input('Subject you don\\'t like : ')\n",
    "del sub[sub.index(dislike)]\n",
    "print(sub)"
   ]
  }
 ],
 "metadata": {
  "kernelspec": {
   "display_name": "Python 3",
   "language": "python",
   "name": "python3"
  },
  "language_info": {
   "codemirror_mode": {
    "name": "ipython",
    "version": 3
   },
   "file_extension": ".py",
   "mimetype": "text/x-python",
   "name": "python",
   "nbconvert_exporter": "python",
   "pygments_lexer": "ipython3",
   "version": "3.10.8 (tags/v3.10.8:aaaf517, Oct 11 2022, 16:50:30) [MSC v.1933 64 bit (AMD64)]"
  },
  "orig_nbformat": 4,
  "vscode": {
   "interpreter": {
    "hash": "412ccff6fb13ee14c93d2b8b85fab99f2d3a6250a390f2b105cadca88f5395d9"
   }
  }
 },
 "nbformat": 4,
 "nbformat_minor": 2
}
