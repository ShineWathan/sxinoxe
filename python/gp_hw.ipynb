{
 "cells": [
  {
   "cell_type": "code",
   "execution_count": 7,
   "metadata": {},
   "outputs": [
    {
     "name": "stdout",
     "output_type": "stream",
     "text": [
      "shine\n",
      "8\n",
      "s\n",
      "h\n",
      "i\n",
      "n\n",
      "e\n"
     ]
    }
   ],
   "source": [
    "name =input(\"Enter Your Name:\")\n",
    "print(name) \n",
    "number =int(input(\"Type a Number\"))\n",
    "print(number)\n",
    "if number <10:\n",
    "  for i in name: \n",
    "    print(i)\n",
    "else:\n",
    "  for i in range (3):\n",
    "    display(\"Number is to high\")"
   ]
  },
  {
   "cell_type": "code",
   "execution_count": 1,
   "metadata": {},
   "outputs": [
    {
     "name": "stdout",
     "output_type": "stream",
     "text": [
      "1\n",
      "Yes\n",
      "1\n",
      "Yes\n",
      "1\n",
      "No\n",
      "1\n",
      "Yes\n",
      "1\n",
      "Yes\n"
     ]
    },
    {
     "data": {
      "text/plain": [
       "'Total result:'"
      ]
     },
     "metadata": {},
     "output_type": "display_data"
    },
    {
     "data": {
      "text/plain": [
       "1"
      ]
     },
     "metadata": {},
     "output_type": "display_data"
    }
   ],
   "source": [
    "total = 0\n",
    "\n",
    "for i in range(5):\n",
    "    number =int(input(\"Type a Number\"))\n",
    "    print(number)\n",
    "    select = input(\"Yes 0r No?\")\n",
    "    print(select)\n",
    "\n",
    "if select == \"No\":\n",
    "    print(\"Total\")\n",
    "    print(total =total-number )\n",
    "\n",
    "elif select == \"Yes\":\n",
    "    total += number\n",
    "    display('Total result:',total)\n",
    "\n",
    "\n"
   ]
  },
  {
   "cell_type": "code",
   "execution_count": 2,
   "metadata": {},
   "outputs": [
    {
     "name": "stdout",
     "output_type": "stream",
     "text": [
      "Up\n",
      "1\n",
      "2\n",
      "3\n",
      "4\n",
      "5\n",
      "6\n",
      "7\n",
      "8\n",
      "9\n"
     ]
    }
   ],
   "source": [
    "choice = input(\"Do you want to go Up or Down.\")\n",
    "print(choice)\n",
    "if choice == \"Up\":\n",
    "  max = int(input(\"Choose the maximum number.\"))\n",
    "  for i in range(1,max):\n",
    "    print(i)\n",
    "elif choice ==\"Down\":\n",
    "  below = int(input(\"Chosse the number under 20.\"))\n",
    "  for i in range(below,20):\n",
    "    print(i)\n",
    "else:\n",
    "  display(\"I don't understand.\")"
   ]
  },
  {
   "cell_type": "code",
   "execution_count": 16,
   "metadata": {},
   "outputs": [
    {
     "data": {
      "text/plain": [
       "'Too many people.'"
      ]
     },
     "metadata": {},
     "output_type": "display_data"
    }
   ],
   "source": [
    "visitors = int(input(\"how many people do you want to invite to the New Year Party\"))\n",
    "if visitors < 10:\n",
    "    for i in range(9):\n",
    "        name = input(\"name?\")\n",
    "        print(f'{name} has been invited')\n",
    "else:\n",
    "    display(\"Too many people.\")"
   ]
  }
 ],
 "metadata": {
  "kernelspec": {
   "display_name": "Python 3",
   "language": "python",
   "name": "python3"
  },
  "language_info": {
   "codemirror_mode": {
    "name": "ipython",
    "version": 3
   },
   "file_extension": ".py",
   "mimetype": "text/x-python",
   "name": "python",
   "nbconvert_exporter": "python",
   "pygments_lexer": "ipython3",
   "version": "3.10.8"
  },
  "orig_nbformat": 4,
  "vscode": {
   "interpreter": {
    "hash": "412ccff6fb13ee14c93d2b8b85fab99f2d3a6250a390f2b105cadca88f5395d9"
   }
  }
 },
 "nbformat": 4,
 "nbformat_minor": 2
}
