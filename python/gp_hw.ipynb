{
 "cells": [
  {
   "cell_type": "code",
   "execution_count": 7,
   "metadata": {},
   "outputs": [
    {
     "name": "stdout",
     "output_type": "stream",
     "text": [
      "shine\n",
      "8\n",
      "s\n",
      "h\n",
      "i\n",
      "n\n",
      "e\n"
     ]
    }
   ],
   "source": [
    "name =input(\"Enter Your Name:\")\n",
    "print(name) \n",
    "number =int(input(\"Type a Number\"))\n",
    "print(number)\n",
    "if number <10:\n",
    "  for i in name: \n",
    "    print(i)\n",
    "else:\n",
    "  for i in range (3):\n",
    "    display(\"Number is to high\")"
   ]
  },
  {
   "cell_type": "code",
   "execution_count": 3,
   "metadata": {},
   "outputs": [
    {
     "ename": "SyntaxError",
     "evalue": "invalid syntax (3822364993.py, line 11)",
     "output_type": "error",
     "traceback": [
      "\u001b[1;36m  Cell \u001b[1;32mIn [3], line 11\u001b[1;36m\u001b[0m\n\u001b[1;33m    print(total-=number )\u001b[0m\n\u001b[1;37m               ^\u001b[0m\n\u001b[1;31mSyntaxError\u001b[0m\u001b[1;31m:\u001b[0m invalid syntax\n"
     ]
    }
   ],
   "source": [
    "total = 0\n",
    "\n",
    "for i in range(5):\n",
    "    number =int(input(\"Type a Number\"))\n",
    "    print(number)\n",
    "    select = input(\"Yes 0r No?\")\n",
    "    print(select)\n",
    "\n",
    "if select == \"No\":\n",
    "    print(\"Total\")\n",
    "    print(total-number)\n",
    "\n",
    "elif select == \"Yes\":\n",
    "    total += number\n",
    "    display('Total result:',total)\n",
    "\n",
    "\n"
   ]
  },
  {
   "cell_type": "code",
   "execution_count": 5,
   "metadata": {},
   "outputs": [
    {
     "name": "stdout",
     "output_type": "stream",
     "text": [
      "Down\n",
      "20\n",
      "19\n",
      "18\n",
      "17\n",
      "16\n",
      "15\n",
      "14\n",
      "13\n",
      "12\n",
      "11\n",
      "10\n",
      "9\n",
      "8\n",
      "7\n",
      "6\n"
     ]
    }
   ],
   "source": [
    "choice = input(\"Do you want to go Up or Down.\")\n",
    "print(choice)\n",
    "if choice == \"Up\":\n",
    "  max = int(input(\"Choose the maximum number.\"))\n",
    "  for i in range(1,max):\n",
    "    print(i)\n",
    "elif choice ==\"Down\":\n",
    "  below = int(input(\"Chosse the number under 20.\"))\n",
    "  for i in range(20,below,-1):\n",
    "    print(i)\n",
    "else:\n",
    "  display(\"I don't understand.\")"
   ]
  },
  {
   "cell_type": "code",
   "execution_count": 16,
   "metadata": {},
   "outputs": [
    {
     "data": {
      "text/plain": [
       "'Too many people.'"
      ]
     },
     "metadata": {},
     "output_type": "display_data"
    }
   ],
   "source": [
    "visitors = int(input(\"how many people do you want to invite to the New Year Party\"))\n",
    "if visitors < 10:\n",
    "    for i in range(9):\n",
    "        name = input(\"name?\")\n",
    "        print(f'{name} has been invited')\n",
    "else:\n",
    "    display(\"Too many people.\")"
   ]
  }
 ],
 "metadata": {
  "kernelspec": {
   "display_name": "Python 3",
   "language": "python",
   "name": "python3"
  },
  "language_info": {
   "codemirror_mode": {
    "name": "ipython",
    "version": 3
   },
   "file_extension": ".py",
   "mimetype": "text/x-python",
   "name": "python",
   "nbconvert_exporter": "python",
   "pygments_lexer": "ipython3",
   "version": "3.10.8 (tags/v3.10.8:aaaf517, Oct 11 2022, 16:50:30) [MSC v.1933 64 bit (AMD64)]"
  },
  "orig_nbformat": 4,
  "vscode": {
   "interpreter": {
    "hash": "412ccff6fb13ee14c93d2b8b85fab99f2d3a6250a390f2b105cadca88f5395d9"
   }
  }
 },
 "nbformat": 4,
 "nbformat_minor": 2
}
