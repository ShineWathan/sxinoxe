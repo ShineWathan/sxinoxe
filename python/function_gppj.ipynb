{
 "cells": [
  {
   "cell_type": "code",
   "execution_count": 99,
   "metadata": {},
   "outputs": [
    {
     "name": "stdout",
     "output_type": "stream",
     "text": [
      "4\n"
     ]
    }
   ],
   "source": [
    "def get_nth_digit(k, n):\n",
    "    first = int(str(k)[-n])\n",
    "    return first\n",
    "print(get_nth_digit(123456, 3))"
   ]
  },
  {
   "cell_type": "code",
   "execution_count": 101,
   "metadata": {},
   "outputs": [
    {
     "name": "stdout",
     "output_type": "stream",
     "text": [
      "16\n"
     ]
    }
   ],
   "source": [
    "def get_int(string, separator, n):\n",
    "    return int(string.split(separator)[n])\n",
    "\n",
    "def format_sum(int_string):\n",
    "    numbers = int_string.split(\"+\")\n",
    "    total = 0\n",
    "    for num in numbers:\n",
    "        total += get_int(num, \"+\", 0)\n",
    "    return total\n",
    "print(format_sum('2+3+6+5'))"
   ]
  },
  {
   "cell_type": "code",
   "execution_count": 102,
   "metadata": {},
   "outputs": [
    {
     "name": "stdout",
     "output_type": "stream",
     "text": [
      "10:44:38\n"
     ]
    }
   ],
   "source": [
    "def time_to_seconds(time):\n",
    "    x = list(map(int, time.split(\":\")))\n",
    "    return x[0] * 3600 + x[1]*60 + x[2]\n",
    "\n",
    "def make_time_string(hours, mins, seconds):\n",
    "    return \"{:02d}:{:02d}:{:02d}\".format(hours, mins, seconds)\n",
    "\n",
    "\n",
    "def time_difference(time1, time2):\n",
    "    t1 = time_to_seconds(time1)\n",
    "    t2 = time_to_seconds(time2)\n",
    "    if t1 >= t2:\n",
    "        difference = t1 - t2\n",
    "    else:\n",
    "        difference = t2 - t1\n",
    "    hours = difference // 3600\n",
    "    rem = difference % 3600\n",
    "    minutes = rem // 60\n",
    "    seconds = rem % 60\n",
    "    return make_time_string(hours, minutes, seconds)\n",
    "print(time_difference('11:46:39', '22:31:17'))"
   ]
  },
  {
   "cell_type": "code",
   "execution_count": 126,
   "metadata": {},
   "outputs": [
    {
     "name": "stdout",
     "output_type": "stream",
     "text": [
      "Not a triangle\n"
     ]
    }
   ],
   "source": [
    "def triangle(side1, side2, side3):\n",
    "    if side1 + side2 <= side3 or side1 + side3 <= side2 or side2 + side3 <= side1:\n",
    "        print(\"Not a triangle\")\n",
    "    elif side1 == side2 == side3:\n",
    "        print(\"Equilatera\")\n",
    "    elif side1 == side2 or side1 == side3 or side2 == side3:\n",
    "        print(\"Isosceles\")\n",
    "    elif side1 != side2 != side3:\n",
    "        print(\"Scalene\")\n",
    "    return\n",
    "triangle(2, 3, 5)\n"
   ]
  }
 ],
 "metadata": {
  "kernelspec": {
   "display_name": "Python 3",
   "language": "python",
   "name": "python3"
  },
  "language_info": {
   "codemirror_mode": {
    "name": "ipython",
    "version": 3
   },
   "file_extension": ".py",
   "mimetype": "text/x-python",
   "name": "python",
   "nbconvert_exporter": "python",
   "pygments_lexer": "ipython3",
   "version": "3.10.8"
  },
  "orig_nbformat": 4,
  "vscode": {
   "interpreter": {
    "hash": "412ccff6fb13ee14c93d2b8b85fab99f2d3a6250a390f2b105cadca88f5395d9"
   }
  }
 },
 "nbformat": 4,
 "nbformat_minor": 2
}
