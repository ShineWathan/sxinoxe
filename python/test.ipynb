{
 "cells": [
  {
   "cell_type": "code",
   "execution_count": 13,
   "metadata": {},
   "outputs": [
    {
     "name": "stdout",
     "output_type": "stream",
     "text": [
      "100\n",
      "101\n",
      "102\n",
      "103\n",
      "104\n",
      "105\n",
      "106\n",
      "107\n",
      "108\n",
      "109\n",
      "110\n",
      "let's stop here\n",
      "Loop End!\n"
     ]
    }
   ],
   "source": [
    "a = 100\n",
    "for a in range (100, 115):\n",
    "    print(a)\n",
    "    if a == 110:\n",
    "        print('let\\'s stop here')\n",
    "        break\n",
    "print('Loop End!')"
   ]
  },
  {
   "cell_type": "code",
   "execution_count": 14,
   "metadata": {},
   "outputs": [
    {
     "name": "stdout",
     "output_type": "stream",
     "text": [
      "100\n",
      "102\n",
      "104\n",
      "106\n",
      "108\n",
      "110\n",
      "number is 110\n",
      "Loop End!\n"
     ]
    }
   ],
   "source": [
    "for a in range (100, 120,2):\n",
    "    print(a)\n",
    "    if a == 110:\n",
    "        print('number is 110')\n",
    "        break\n",
    "print('Loop End!')"
   ]
  },
  {
   "cell_type": "code",
   "execution_count": 3,
   "metadata": {},
   "outputs": [
    {
     "name": "stdout",
     "output_type": "stream",
     "text": [
      "12\n"
     ]
    }
   ],
   "source": [
    "standardHours = [12, 1, 2, 3, 4, 5, 6, 7, 8, 9, 10, 11]\n",
    "print(len(standardHours))"
   ]
  },
  {
   "cell_type": "code",
   "execution_count": 4,
   "metadata": {},
   "outputs": [
    {
     "name": "stdout",
     "output_type": "stream",
     "text": [
      "4\n"
     ]
    }
   ],
   "source": [
    "phonk = [ 'Stpe Back', 'Close Eyes', 'Phonk Drift', 'Why Not']\n",
    "print(len(phonk))"
   ]
  },
  {
   "cell_type": "code",
   "execution_count": 5,
   "metadata": {},
   "outputs": [
    {
     "name": "stdout",
     "output_type": "stream",
     "text": [
      "['Stpe Back', 'Close Eyes', 'Phonk Drift', 'BANKAI']\n"
     ]
    }
   ],
   "source": [
    "phonk[3] = 'BANKAI'\n",
    "print (phonk)"
   ]
  },
  {
   "cell_type": "code",
   "execution_count": 6,
   "metadata": {},
   "outputs": [
    {
     "name": "stdout",
     "output_type": "stream",
     "text": [
      "12\n"
     ]
    }
   ],
   "source": [
    "standardHours = [12, 1, 2, 3, 4, 5, 6, 7, 8, 9, 10, 11]\n",
    "print(len(standardHours))"
   ]
  },
  {
   "cell_type": "code",
   "execution_count": 15,
   "metadata": {},
   "outputs": [
    {
     "name": "stdout",
     "output_type": "stream",
     "text": [
      "12\n",
      "PM\n"
     ]
    }
   ],
   "source": [
    "hr_military = int(input(\"Enter military hor: \"))\n",
    "print(standardHours[hr_military - len(standardHours)])\n",
    "\n",
    "if hr_military >= 12:\n",
    "    print('PM')\n",
    "\n",
    "else:\n",
    "    print('AM')  "
   ]
  },
  {
   "cell_type": "code",
   "execution_count": 18,
   "metadata": {},
   "outputs": [
    {
     "name": "stdout",
     "output_type": "stream",
     "text": [
      "PM\n"
     ]
    }
   ],
   "source": [
    "avengers = ['Lu Min', 'Nay Htoo Naing', 'Banana']\n",
    "villains = ['Joker', 'Homelander', 'Black Adam']\n",
    "for a in range (len(avengers)):\n",
    "    print(f)"
   ]
  }
 ],
 "metadata": {
  "kernelspec": {
   "display_name": "Python 3",
   "language": "python",
   "name": "python3"
  },
  "language_info": {
   "codemirror_mode": {
    "name": "ipython",
    "version": 3
   },
   "file_extension": ".py",
   "mimetype": "text/x-python",
   "name": "python",
   "nbconvert_exporter": "python",
   "pygments_lexer": "ipython3",
   "version": "3.10.8 (tags/v3.10.8:aaaf517, Oct 11 2022, 16:50:30) [MSC v.1933 64 bit (AMD64)]"
  },
  "orig_nbformat": 4,
  "vscode": {
   "interpreter": {
    "hash": "412ccff6fb13ee14c93d2b8b85fab99f2d3a6250a390f2b105cadca88f5395d9"
   }
  }
 },
 "nbformat": 4,
 "nbformat_minor": 2
}
